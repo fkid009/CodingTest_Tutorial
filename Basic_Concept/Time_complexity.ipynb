{
 "cells": [
  {
   "cell_type": "markdown",
   "metadata": {},
   "source": [
    "# 프로그램 수행 시간\n",
    "\n",
    "- 기본 연산을 1회 수행하는 데에 넉넉잡아 0.00000005초 정도 소요\n",
    "- 기본 연산을 1억 회 수행하느 데에 넉넉잡아 5초 정도 소요"
   ]
  },
  {
   "cell_type": "markdown",
   "metadata": {},
   "source": [
    "# 기본 연산이란?\n",
    "\n",
    "- +, -, *, /\n",
    "- =, <, >, ==\n",
    "- and, or, not"
   ]
  },
  {
   "cell_type": "markdown",
   "metadata": {},
   "source": [
    "# 시간 복잡도\n",
    "\n",
    "- 프로그램이 기본 연산을 몇 회 사용하였는지 N에 대한 식으로 나타낸 것(최악의 수를 기준으로 설정하는 것을 추천)\n",
    "\n",
    "## 규칙\n",
    "\n",
    "1. 상수를 무시한다.(3N -> N)\n",
    "2. 낮은 차수의 항을 무시한다. (N^2+3N -> N^2)\n",
    "\n",
    "Ex. 2N^3 + 5N^2 + 8 -> N^3\n",
    ": 최악의 경우에 2N^3 + 5N^2 + 8회 연산 -> 최악의 경우에 대략 N^3회 연산\n",
    "=> O(N^3) 으로 표기\n"
   ]
  },
  {
   "cell_type": "markdown",
   "metadata": {},
   "source": [
    "# 코딩 테스트\n",
    "\n",
    "- 문제에 시간 제한이 명시되어 있다.(Ex. 시간 제한 5초)\n",
    "- 입력 크기 제한도 명시되어 있다. (Ex. N은 1000 이하의 자연수)\n",
    "\n",
    "=> 통과할 수 있는 풀이의 시간 복잡도를 예상할 수 있다.\n",
    "Ex. O(N^2) 가능, O(N^3) 불가능"
   ]
  },
  {
   "cell_type": "markdown",
   "metadata": {},
   "source": []
  }
 ],
 "metadata": {
  "language_info": {
   "name": "python"
  }
 },
 "nbformat": 4,
 "nbformat_minor": 2
}
