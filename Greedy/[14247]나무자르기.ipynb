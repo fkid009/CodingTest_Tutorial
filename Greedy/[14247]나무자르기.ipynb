{
 "cells": [
  {
   "cell_type": "markdown",
   "id": "ac47d6a2",
   "metadata": {},
   "source": [
    "## [나무 자르기](https://www.acmicpc.net/problem/14247)\n",
    "\n",
    "### 문제\n",
    "\n",
    "영선이는 나무꾼으로 나무를 구하러 오전에 산에 오른다. 산에는 \n",
    "$n$개의 나무가 있는데, 영선이는 하루에 한 나무씩 $n$일 산에 오르며 나무를 잘라갈 것이다. 하지만 이 산은 영험한 기운이 있어 나무들이 밤만 되면 매우 빠른 속도로 자라는데, 그 자라는 길이는 나무마다 다르다.\n",
    "\n",
    "따라서, 어느 나무를 먼저 잘라가느냐에 따라서 총 구할 수 있는 나무의 양이 다른데,\n",
    "\n",
    "나무의 처음 길이와 하루에 자라는 양이 주어졌을 때, 영선이가 얻을 수 있는 최대 나무양을 구하시오.\n",
    "\n",
    "참고로, 자른 이후에도 나무는 $0$부터 다시 자라기 때문에 같은 나무를 여러 번 자를 수는 있다.\n",
    "\n",
    "\n",
    "\n",
    "### 입력\n",
    "\n",
    "1. 첫째 줄에 나무의 개수 n이 주어진다. (1 ≤ n ≤ 100,000)\n",
    "2. 둘째 줄에 n개의 나무의 첫날 길이 H₁, H₂, ..., Hₙ가 주어진다. (1 ≤ Hᵢ ≤ 100,000)\n",
    "3. 셋째 줄에 n개의 나무의 하루 자람량 A₁, A₂, ..., Aₙ이 주어진다. (1 ≤ Aᵢ ≤ 10,000)\n",
    "\n",
    "### 출력\n",
    "\n",
    "영선이가 잘라서 얻을 수 있는 나무의 총 합의 최댓값을 출력한다.\n",
    "\n",
    "### 예제 입력\n",
    "5\n",
    "\n",
    "1 3 2 4 6\n",
    "\n",
    "2 7 3 4 1\n",
    "\n",
    "\n",
    "### 예제 출력\n",
    "64"
   ]
  },
  {
   "cell_type": "markdown",
   "id": "829d388a",
   "metadata": {},
   "source": [
    "# 풀이"
   ]
  },
  {
   "cell_type": "code",
   "execution_count": 35,
   "id": "7b0f2bcf",
   "metadata": {},
   "outputs": [],
   "source": [
    "import sys"
   ]
  },
  {
   "cell_type": "code",
   "execution_count": 19,
   "id": "ab6f3f0b",
   "metadata": {},
   "outputs": [],
   "source": [
    "n = int(input())\n",
    "length = list(map(int, input().split(\" \")))\n",
    "speed = list(map(int, input().split(\" \")))\n",
    "\n",
    "\n",
    "# n = int(sys.stdin.readline())\n",
    "# length = list(map(int, sys.stdin.readline().split()))\n",
    "# speed = list(map(int, sys.stdin.readline().split()))"
   ]
  },
  {
   "cell_type": "code",
   "execution_count": null,
   "id": "4ff84da8",
   "metadata": {},
   "outputs": [],
   "source": [
    "speed_length = {}\n",
    "for i in range(n):\n",
    "    speed_length[speed[i]] = length[i]"
   ]
  },
  {
   "cell_type": "code",
   "execution_count": 22,
   "id": "a6917f69",
   "metadata": {},
   "outputs": [],
   "source": [
    "speed.sort(reverse = False)"
   ]
  },
  {
   "cell_type": "code",
   "execution_count": 23,
   "id": "67b6d310",
   "metadata": {},
   "outputs": [],
   "source": [
    "answer = 0\n",
    "for i in range(n):\n",
    "    answer += speed_length[speed[i]] + speed[i] * i"
   ]
  },
  {
   "cell_type": "code",
   "execution_count": 24,
   "id": "cc944058",
   "metadata": {},
   "outputs": [
    {
     "name": "stdout",
     "output_type": "stream",
     "text": [
      "64\n"
     ]
    }
   ],
   "source": [
    "print(answer)"
   ]
  },
  {
   "cell_type": "code",
   "execution_count": null,
   "id": "7b0aec96",
   "metadata": {},
   "outputs": [],
   "source": []
  }
 ],
 "metadata": {
  "kernelspec": {
   "display_name": "any",
   "language": "python",
   "name": "python3"
  },
  "language_info": {
   "codemirror_mode": {
    "name": "ipython",
    "version": 3
   },
   "file_extension": ".py",
   "mimetype": "text/x-python",
   "name": "python",
   "nbconvert_exporter": "python",
   "pygments_lexer": "ipython3",
   "version": "3.9.21"
  }
 },
 "nbformat": 4,
 "nbformat_minor": 5
}
