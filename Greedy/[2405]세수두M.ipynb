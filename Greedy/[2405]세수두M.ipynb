{
 "cells": [
  {
   "cell_type": "markdown",
   "id": "7af128c4",
   "metadata": {},
   "source": [
    "## [세 수, 두 M](https://www.acmicpc.net/problem/2405)\n",
    "\n",
    "### 문제\n",
    "\n",
    "n개의 정수 A[1], A[2], …, A[n]이 있다. 서로 다른 세 정수 i, j, k에 대해서 a = A[i], b = A[j], c = A[k]라 하자. 세 수의 중위(Median)값은 정렬했을 때 가운데에 오는 수가 된다. 세 수의 평균(Mean)값은 (a+b+c)÷3이 된다.\n",
    "\n",
    "만약 세 수가 5, 2, 5라면 중위값은 5, 평균값은 4가 된다. 세 수가 2, 3, 1이라면 중위값은 2, 평균값도 2가 된다.\n",
    "\n",
    "n개의 수들이 주어졌을 때, 위와 같이 세 수를 선택하여(i, j, k가 서로 다르도록) 중위값과 평균값의 차이가 최대가 되도록 해 보시오.\n",
    "\n",
    "\n",
    "\n",
    "### 입력\n",
    "\n",
    "1. 첫째 줄에 정수 n이 주어진다. (3 ≤ n ≤ 100,000)\n",
    "2. 다음 n개의 줄에 배열 A의 원소 A[i]가 한 줄에 하나씩 주어진다. (각 정수의 절댓값 ≤ 100,000,000)\n",
    "\n",
    "### 출력\n",
    "\n",
    "중위값과 평균값의 차이를 세 배한 값을 출력한다.\n",
    "### 예제 입력\n",
    "5\n",
    "\n",
    "100\n",
    "\n",
    "234\n",
    "\n",
    "430\n",
    "\n",
    "120\n",
    "\n",
    "489\n",
    "\n",
    "### 예제 출력\n",
    "349"
   ]
  },
  {
   "cell_type": "markdown",
   "id": "ac4df9ef",
   "metadata": {},
   "source": [
    "# 풀이"
   ]
  },
  {
   "cell_type": "code",
   "execution_count": null,
   "id": "425cb827",
   "metadata": {
    "vscode": {
     "languageId": "plaintext"
    }
   },
   "outputs": [],
   "source": []
  }
 ],
 "metadata": {
  "language_info": {
   "name": "python"
  }
 },
 "nbformat": 4,
 "nbformat_minor": 5
}
