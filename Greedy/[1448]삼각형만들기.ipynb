{
 "cells": [
  {
   "cell_type": "markdown",
   "id": "3695aea2",
   "metadata": {},
   "source": [
    "## [삼각형 만들기](https://www.acmicpc.net/problem/1448)\n",
    "\n",
    "### 문제\n",
    "\n",
    "세준이는 N개의 빨대를 가지고 있다. N개의 빨대 중에 3개의 빨대를 선택했을 때, 이 빨대로 삼각형을 만들 수 있다면, 세 변의 길이의 합의 최댓값을 구하고 싶다.\n",
    "\n",
    "\n",
    "\n",
    "### 입력\n",
    "\n",
    "1. 첫째 줄에 빨대의 개수 N이 주어진다. (3 ≤ N ≤ 1,000,000)\n",
    "2. 둘째 줄부터 N개의 줄에 빨대의 길이가 하나씩 주어진다. (1 ≤ 길이 ≤ 1,000,000)\n",
    "\n",
    "### 출력\n",
    "\n",
    "- 삼각형을 만들 수 있는 세 변의 합의 최댓값을 출력한다.\n",
    "- 삼각형을 만들 수 없다면 -1을 출력한다.\n",
    "\n",
    "### 예제 입력1\n",
    "3\n",
    "\n",
    "1\n",
    "\n",
    "2\n",
    "\n",
    "3\n",
    "\n",
    "### 예제 출력1\n",
    "-1\n",
    "\n",
    "### 예제 입력2\n",
    "3\n",
    "\n",
    "1\n",
    "\n",
    "2\n",
    "\n",
    "2\n",
    "\n",
    "### 예제 출력2\n",
    "5\n",
    "\n",
    "### 예제 입력3\n",
    "6\n",
    "\n",
    "2\n",
    "\n",
    "3\n",
    "\n",
    "2\n",
    "\n",
    "3\n",
    "\n",
    "2\n",
    "\n",
    "4\n",
    "\n",
    "### 예제 출력3\n",
    "10\n",
    "\n",
    "### 예제 입력4\n",
    "5\n",
    "\n",
    "4\n",
    "\n",
    "5\n",
    "\n",
    "6\n",
    "\n",
    "7\n",
    "\n",
    "20\n",
    "\n",
    "### 예제 출력4\n",
    "18"
   ]
  },
  {
   "cell_type": "markdown",
   "id": "c882f992",
   "metadata": {},
   "source": [
    "# 풀이"
   ]
  },
  {
   "cell_type": "code",
   "execution_count": 21,
   "id": "89c7172c",
   "metadata": {},
   "outputs": [],
   "source": [
    "import sys"
   ]
  },
  {
   "cell_type": "code",
   "execution_count": 6,
   "id": "cdaedb17",
   "metadata": {},
   "outputs": [],
   "source": [
    "N = int(input())\n",
    "L = []\n",
    "for i in range(N):\n",
    "    L.append(int(input()))\n",
    "\n",
    "### 큰 값에 대한 더 빠른 입력시\n",
    "# N = int(sys.stdin.readline())\n",
    "# L = [int(sys.stdin.readline()) for _ in range(N)]"
   ]
  },
  {
   "cell_type": "code",
   "execution_count": 7,
   "id": "bacb4e53",
   "metadata": {},
   "outputs": [],
   "source": [
    "L.sort(reverse=True)"
   ]
  },
  {
   "cell_type": "code",
   "execution_count": null,
   "id": "f8cbf3a6",
   "metadata": {},
   "outputs": [
    {
     "name": "stdout",
     "output_type": "stream",
     "text": [
      "4\n"
     ]
    }
   ],
   "source": [
    "answer = -1\n",
    "for i in range(len(L) - 2):\n",
    "    if L[i] < L[i + 1] + L[i + 2]:\n",
    "        answer = L[i] + L[i + 1] + L[i + 2]\n",
    "        break"
   ]
  },
  {
   "cell_type": "code",
   "execution_count": 11,
   "id": "3ecb7a40",
   "metadata": {},
   "outputs": [
    {
     "data": {
      "text/plain": [
       "10"
      ]
     },
     "execution_count": 11,
     "metadata": {},
     "output_type": "execute_result"
    }
   ],
   "source": [
    "answer"
   ]
  },
  {
   "cell_type": "code",
   "execution_count": null,
   "id": "d86fdaac",
   "metadata": {},
   "outputs": [],
   "source": []
  }
 ],
 "metadata": {
  "kernelspec": {
   "display_name": "any",
   "language": "python",
   "name": "python3"
  },
  "language_info": {
   "codemirror_mode": {
    "name": "ipython",
    "version": 3
   },
   "file_extension": ".py",
   "mimetype": "text/x-python",
   "name": "python",
   "nbconvert_exporter": "python",
   "pygments_lexer": "ipython3",
   "version": "3.9.21"
  }
 },
 "nbformat": 4,
 "nbformat_minor": 5
}
