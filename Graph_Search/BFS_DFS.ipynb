{
 "cells": [
  {
   "cell_type": "markdown",
   "metadata": {},
   "source": [
    "# 그래프 탐색\n",
    "\n",
    "- 시작점에서 간선따라 도달할 수 있는 정점리스트 반환\n",
    "\n",
    "1) 시작점에서 출발\n",
    "2) 현재 위치에서 갈 수 있는 노드 방문 예정 목록에 추가\n",
    "3) 방문 예정 목록에 있는 노드 중 한 곳 방문\n",
    "4) 2와 3 반복\n",
    "5) 방문 예정 목록이 없으면 종료\n",
    "\n",
    "- 방문 예정 -> Queue -> BFS\n",
    "- 방문 예정 -> Stack -> DFS"
   ]
  },
  {
   "cell_type": "markdown",
   "metadata": {},
   "source": [
    "# BFS (Breadth First Search)"
   ]
  },
  {
   "cell_type": "markdown",
   "metadata": {},
   "source": [
    "- 시작점 기준 가까운 곳을 먼저 방문해 보는 양상"
   ]
  },
  {
   "cell_type": "code",
   "execution_count": null,
   "metadata": {},
   "outputs": [],
   "source": [
    "from collections import deque\n",
    "\n",
    "queue = deque()\n",
    "visited = [False] * len(graph_list)\n",
    "# 시작점을 큐에 추가\n",
    "queue.append(start)\n",
    "visited[start] = True\n",
    "\n",
    "# 큐가 빌 때까지 탐색 반복\n",
    "while len(queue) != 0:\n",
    "    u = queue.popleft()\n",
    "\n",
    "    for v in adj[u]:\n",
    "        # 인접 리스트에 들어 있는 노드들 보면서 visited에 체크 안되어 있으면 큐에 추가\n",
    "        if not visited[v]:\n",
    "            queue.append(v)\n",
    "            visited[v] = True\n"
   ]
  },
  {
   "cell_type": "markdown",
   "metadata": {},
   "source": [
    "# DFS (Depth First Search)"
   ]
  },
  {
   "cell_type": "markdown",
   "metadata": {},
   "source": [
    "- 시작점 기준 한 길따라 끝까지 가본 후 back"
   ]
  },
  {
   "cell_type": "code",
   "execution_count": null,
   "metadata": {},
   "outputs": [],
   "source": [
    "stack = []\n",
    "\n",
    "# 시작점을 스택에 추가\n",
    "stack.append(start)\n",
    "\n",
    "# 큐가 빌 때까지 탐색 반복\n",
    "while len(stack) != 0:\n",
    "    u = stack.pop(-1)\n",
    "\n",
    "    if visited[u]:\n",
    "        continue\n",
    "    visited[u] = True # 방문 후 visited  체크 -> BFS와의 가장 큰 차이점\n",
    "\n",
    "    for v in adj[u]: # 인접리스트에 들어 있는 노드들 보면서 visited에 체크 안되어 있으면 스택에 추가\n",
    "        if not visited[v]:\n",
    "            stack.append(v)\n",
    "            visited[v] = True"
   ]
  }
 ],
 "metadata": {
  "kernelspec": {
   "display_name": "any",
   "language": "python",
   "name": "python3"
  },
  "language_info": {
   "codemirror_mode": {
    "name": "ipython",
    "version": 3
   },
   "file_extension": ".py",
   "mimetype": "text/x-python",
   "name": "python",
   "nbconvert_exporter": "python",
   "pygments_lexer": "ipython3",
   "version": "3.9.21"
  }
 },
 "nbformat": 4,
 "nbformat_minor": 2
}
