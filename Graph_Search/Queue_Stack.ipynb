{
 "cells": [
  {
   "cell_type": "markdown",
   "metadata": {},
   "source": [
    "Queue와 Stack은 삽입/삭제가 빈번하게 일어나는 자료구조에서 사용됨\n",
    "\n",
    "- 어떤 원소 한 개 삽입\n",
    "- 어떤 원소 한 개 삭제\n",
    "- 가장 먼저 삽입된 원소 삭제 -> Queue\n",
    "- 가장 나중에 삽입된 원소 삭제 -> Stack"
   ]
  },
  {
   "cell_type": "markdown",
   "metadata": {},
   "source": [
    "# Queue\n",
    "\n",
    "- 삽입: back 넣기\n",
    "- 삭제: front 빼줌"
   ]
  },
  {
   "cell_type": "code",
   "execution_count": 2,
   "metadata": {},
   "outputs": [
    {
     "name": "stdout",
     "output_type": "stream",
     "text": [
      "deque([7, 8, 9])\n"
     ]
    }
   ],
   "source": [
    "from collections import deque\n",
    "\n",
    "queue = deque()\n",
    "\n",
    "queue.append(3)\n",
    "queue.append(2)\n",
    "queue.append(7)\n",
    "queue.popleft()\n",
    "queue.popleft()\n",
    "queue.append(8)\n",
    "queue.append(9)\n",
    "\n",
    "print(queue)"
   ]
  },
  {
   "cell_type": "markdown",
   "metadata": {},
   "source": [
    "# Stack\n",
    "\n",
    "- 삽입: top 넣기\n",
    "- 삭제: top 빼줌"
   ]
  },
  {
   "cell_type": "code",
   "execution_count": 3,
   "metadata": {},
   "outputs": [
    {
     "name": "stdout",
     "output_type": "stream",
     "text": [
      "[3, 8, 9]\n"
     ]
    }
   ],
   "source": [
    "stack = []\n",
    "\n",
    "stack.append(3)\n",
    "stack.append(2)\n",
    "stack.append(7)\n",
    "stack.pop(-1)\n",
    "stack.pop(-1)\n",
    "stack.append(8)\n",
    "stack.append(9)\n",
    "\n",
    "print(stack)"
   ]
  },
  {
   "cell_type": "code",
   "execution_count": null,
   "metadata": {},
   "outputs": [],
   "source": []
  }
 ],
 "metadata": {
  "kernelspec": {
   "display_name": "any",
   "language": "python",
   "name": "python3"
  },
  "language_info": {
   "codemirror_mode": {
    "name": "ipython",
    "version": 3
   },
   "file_extension": ".py",
   "mimetype": "text/x-python",
   "name": "python",
   "nbconvert_exporter": "python",
   "pygments_lexer": "ipython3",
   "version": "3.9.21"
  }
 },
 "nbformat": 4,
 "nbformat_minor": 2
}
