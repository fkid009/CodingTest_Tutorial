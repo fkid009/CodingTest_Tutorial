{
 "cells": [
  {
   "cell_type": "markdown",
   "metadata": {},
   "source": [
    "# 11724번 - 연결 요소의 개수\n",
    "\n",
    "🔗 문제 링크: [https://www.acmicpc.net/problem/11724](https://www.acmicpc.net/problem/11724)\n",
    "\n",
    "## 문제\n",
    "\n",
    "방향 없는 그래프가 주어졌을 때, 연결 요소(Connected Component)의 개수를 구하는 프로그램을 작성하시오.\n",
    "\n",
    "## 입력\n",
    "\n",
    "첫째 줄에 정점의 개수 N과 간선의 개수 M이 주어진다. (1 ≤ N ≤ 1,000, 0 ≤ M ≤ N×(N-1)/2)  \n",
    "둘째 줄부터 M개의 줄에 간선의 양 끝점 u와 v가 주어진다. (1 ≤ u, v ≤ N, u ≠ v)  \n",
    "같은 간선은 한 번만 주어진다.\n",
    "\n",
    "## 출력\n",
    "\n",
    "첫째 줄에 연결 요소의 개수를 출력한다.\n",
    "\n",
    "## 예제 입력 1\n",
    "\n",
    "6 5\n",
    "\n",
    "1 2\n",
    "\n",
    "2 5\n",
    "\n",
    "5 1\n",
    "\n",
    "3 4\n",
    "\n",
    "4 6\n",
    "\n",
    "## 예제 출력 1\n",
    "2"
   ]
  },
  {
   "cell_type": "markdown",
   "metadata": {},
   "source": [
    "# 풀이"
   ]
  },
  {
   "cell_type": "markdown",
   "metadata": {},
   "source": [
    "그래프 탐색 ~ 연결 요소 개수\n",
    "\n",
    "- 결론: 모든 정점 방문하기 위해 필요한 그래프 탐색의 최소 횟수"
   ]
  },
  {
   "cell_type": "code",
   "execution_count": 1,
   "metadata": {},
   "outputs": [],
   "source": [
    "# 입력\n",
    "N, M = map(int, input().split())\n",
    "\n",
    "adj = [[] for _ in range(N)]\n",
    "for _ in range(M):\n",
    "    u, v = map(int, input().split())\n",
    "    u, v = u - 1, v - 1\n",
    "\n",
    "    adj[u].append(v)\n",
    "    adj[v].append(u)"
   ]
  },
  {
   "cell_type": "code",
   "execution_count": 2,
   "metadata": {},
   "outputs": [
    {
     "name": "stdout",
     "output_type": "stream",
     "text": [
      "2\n"
     ]
    }
   ],
   "source": [
    "from collections import deque\n",
    "\n",
    "visit = [False] * N\n",
    "queue = deque()\n",
    "\n",
    "count = 0\n",
    "for i in range(N):\n",
    "    if not visit[i]:\n",
    "        queue.append(i)\n",
    "        visit[i] = True\n",
    "\n",
    "        # bfs\n",
    "        while len(queue) != 0:\n",
    "            u = queue.popleft()\n",
    "\n",
    "            for v in adj[u]:\n",
    "                if not visit[v]:\n",
    "                    queue.append(v)\n",
    "                    visit[v] = True\n",
    "\n",
    "        count += 1\n",
    "\n",
    "print(count)"
   ]
  },
  {
   "cell_type": "code",
   "execution_count": null,
   "metadata": {},
   "outputs": [],
   "source": []
  }
 ],
 "metadata": {
  "kernelspec": {
   "display_name": "any",
   "language": "python",
   "name": "python3"
  },
  "language_info": {
   "codemirror_mode": {
    "name": "ipython",
    "version": 3
   },
   "file_extension": ".py",
   "mimetype": "text/x-python",
   "name": "python",
   "nbconvert_exporter": "python",
   "pygments_lexer": "ipython3",
   "version": "3.9.21"
  }
 },
 "nbformat": 4,
 "nbformat_minor": 2
}
