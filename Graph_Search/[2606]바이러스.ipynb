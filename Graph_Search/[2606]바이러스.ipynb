{
 "cells": [
  {
   "cell_type": "markdown",
   "metadata": {},
   "source": [
    "# 2606번 - 바이러스\n",
    "\n",
    "🔗 문제 링크: [https://www.acmicpc.net/problem/2606](https://www.acmicpc.net/problem/2606)\n",
    "\n",
    "## 문제\n",
    "\n",
    "신종 바이러스인 웜 바이러스는 네트워크를 통해 전파된다.  \n",
    "한 컴퓨터가 웜 바이러스에 걸리면 그 컴퓨터와 네트워크 상에서  \n",
    "연결되어 있는 모든 컴퓨터는 웜 바이러스에 걸리게 된다.  \n",
    "\n",
    "어느 날 1번 컴퓨터가 웜 바이러스에 걸렸다.  \n",
    "컴퓨터의 수와 네트워크 상에서 서로 연결되어 있는 정보가 주어질 때,  \n",
    "1번 컴퓨터를 통해 웜 바이러스에 걸리게 되는 컴퓨터의 수를 출력하는 프로그램을 작성하시오.  \n",
    "\n",
    "## 입력\n",
    "\n",
    "첫째 줄에는 컴퓨터의 수가 주어진다.  \n",
    "컴퓨터의 수는 100 이하인 양의 정수이며,  \n",
    "각 컴퓨터에는 1번부터 차례대로 번호가 매겨진다.  \n",
    "\n",
    "둘째 줄에는 네트워크 상에서 직접 연결되어 있는 컴퓨터 쌍의 수가 주어진다.  \n",
    "이어서 그 수만큼 한 줄에 한 쌍씩 네트워크 상에서 직접 연결되어 있는  \n",
    "컴퓨터의 번호 쌍이 주어진다.  \n",
    "\n",
    "## 출력\n",
    "\n",
    "1번 컴퓨터가 웜 바이러스에 걸렸을 때,  \n",
    "1번 컴퓨터를 통해 웜 바이러스에 걸리게 되는  \n",
    "컴퓨터의 수를 첫째 줄에 출력한다.  \n",
    "\n",
    "## 예제 입력 1\n",
    "7\n",
    "\n",
    "6\n",
    "\n",
    "1 2\n",
    "\n",
    "2 3\n",
    "\n",
    "1 5\n",
    "\n",
    "5 2\n",
    "\n",
    "5 6\n",
    "\n",
    "4 7\n",
    "\n",
    "## 예제 출력 1\n",
    "\n",
    "4"
   ]
  },
  {
   "cell_type": "markdown",
   "metadata": {},
   "source": [
    "# 풀이"
   ]
  },
  {
   "cell_type": "code",
   "execution_count": null,
   "metadata": {},
   "outputs": [
    {
     "ename": "ValueError",
     "evalue": "invalid literal for int() with base 10: ''",
     "output_type": "error",
     "traceback": [
      "\u001b[1;31m---------------------------------------------------------------------------\u001b[0m",
      "\u001b[1;31mValueError\u001b[0m                                Traceback (most recent call last)",
      "Cell \u001b[1;32mIn[1], line 1\u001b[0m\n\u001b[1;32m----> 1\u001b[0m N \u001b[38;5;241m=\u001b[39m \u001b[38;5;28;43mint\u001b[39;49m\u001b[43m(\u001b[49m\u001b[38;5;28;43minput\u001b[39;49m\u001b[43m(\u001b[49m\u001b[43m)\u001b[49m\u001b[43m)\u001b[49m\n\u001b[0;32m      2\u001b[0m M \u001b[38;5;241m=\u001b[39m \u001b[38;5;28mint\u001b[39m(\u001b[38;5;28minput\u001b[39m())\n\u001b[0;32m      4\u001b[0m adj \u001b[38;5;241m=\u001b[39m [[] \u001b[38;5;28;01mfor\u001b[39;00m _ \u001b[38;5;129;01min\u001b[39;00m \u001b[38;5;28mrange\u001b[39m(N)]\n",
      "\u001b[1;31mValueError\u001b[0m: invalid literal for int() with base 10: ''"
     ]
    }
   ],
   "source": [
    "N = int(input())\n",
    "M = int(input())\n",
    "\n",
    "adj = [[] for _ in range(N)]\n",
    "for _ in range(M):\n",
    "    a, b = map(int, input.split())\n",
    "    a, b= a - 1, b - 1\n",
    "\n",
    "    adj[a].append(b)\n",
    "    adj[b].append(a)"
   ]
  },
  {
   "cell_type": "code",
   "execution_count": null,
   "metadata": {},
   "outputs": [],
   "source": [
    "from collections import deque\n",
    "\n",
    "visited = [False] * N\n",
    "queue = deque()\n",
    "\n",
    "queue.append(0)\n",
    "visited[0] = True\n",
    "\n",
    "while len(queue) != 0:\n",
    "    u = queue.popleft()\n",
    "\n",
    "    for v in adj[u]:\n",
    "        if not visited[v]:\n",
    "            queue.append(v)\n",
    "            visited[v] = True"
   ]
  },
  {
   "cell_type": "code",
   "execution_count": null,
   "metadata": {},
   "outputs": [],
   "source": [
    "answer = 0\n",
    "for i in range(1, N):\n",
    "    if visited[i]:\n",
    "        answer += 1\n",
    "\n",
    "print(answer)"
   ]
  }
 ],
 "metadata": {
  "kernelspec": {
   "display_name": "any",
   "language": "python",
   "name": "python3"
  },
  "language_info": {
   "codemirror_mode": {
    "name": "ipython",
    "version": 3
   },
   "file_extension": ".py",
   "mimetype": "text/x-python",
   "name": "python",
   "nbconvert_exporter": "python",
   "pygments_lexer": "ipython3",
   "version": "3.9.21"
  }
 },
 "nbformat": 4,
 "nbformat_minor": 2
}
