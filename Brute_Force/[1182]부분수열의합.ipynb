{
 "cells": [
  {
   "cell_type": "markdown",
   "metadata": {},
   "source": [
    "# [부분수열의 합](https://www.acmicpc.net/problem/1182)\n",
    "\n",
    "## 문제 설명\n",
    "\n",
    "N개의 정수로 이루어진 수열이 있을 때, 크기가 양수인 부분수열 중에서 그 수열의 원소를 모두 더한 값이 S가 되는 경우의 수를 구하는 프로그램을 작성하세요.\n",
    "\n",
    "## 입력\n",
    "\n",
    "- 첫째 줄에 정수의 개수를 나타내는 N과 정수 S가 주어집니다. (1 ≤ N ≤ 20, |S| ≤ 1,000,000)\n",
    "- 둘째 줄에 N개의 정수가 빈 칸을 사이에 두고 주어집니다. 주어지는 정수의 절댓값은 100,000을 넘지 않습니다.\n",
    "\n",
    "## 출력\n",
    "\n",
    "- 합이 S가 되는 부분수열의 개수를 출력합니다."
   ]
  },
  {
   "cell_type": "markdown",
   "metadata": {},
   "source": [
    "# 풀이"
   ]
  },
  {
   "cell_type": "code",
   "execution_count": 2,
   "metadata": {},
   "outputs": [],
   "source": [
    "M, N = map(int, input().split())\n",
    "num_list = list(map(int, input().split()))"
   ]
  },
  {
   "cell_type": "code",
   "execution_count": 20,
   "metadata": {},
   "outputs": [
    {
     "name": "stdout",
     "output_type": "stream",
     "text": [
      "1\n"
     ]
    }
   ],
   "source": [
    "from itertools import combinations\n",
    "\n",
    "ans = 0\n",
    "for c in range(1, len(num_list) + 1):\n",
    "    for p in list(combinations(num_list, c)):\n",
    "        sum = 0\n",
    "        if c == 1:\n",
    "            sum = p[0]\n",
    "        else:\n",
    "            for i in range(c):\n",
    "                sum += p[i]\n",
    "        if sum == N:\n",
    "            ans += 1\n",
    "print(ans)"
   ]
  }
 ],
 "metadata": {
  "kernelspec": {
   "display_name": "any",
   "language": "python",
   "name": "python3"
  },
  "language_info": {
   "codemirror_mode": {
    "name": "ipython",
    "version": 3
   },
   "file_extension": ".py",
   "mimetype": "text/x-python",
   "name": "python",
   "nbconvert_exporter": "python",
   "pygments_lexer": "ipython3",
   "version": "3.9.21"
  }
 },
 "nbformat": 4,
 "nbformat_minor": 2
}
