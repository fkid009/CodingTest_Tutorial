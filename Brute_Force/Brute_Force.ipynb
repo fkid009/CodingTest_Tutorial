{
 "cells": [
  {
   "cell_type": "markdown",
   "metadata": {},
   "source": [
    "# Brute Force Algorithm\n",
    "\n",
    "The brute force algorithm is a straightforward approach that tries all possible cases to find a solution. It is also known as an exhaustive search.\n",
    "\n",
    "- It systematically explores all possible solutions.\n",
    "- It guarantees finding the correct solution if one exists.\n",
    "- It is often inefficient for large input sizes due to its high time complexity.\n",
    "- Knowing **permutations** and **combinations** is crucial to determining the number of possible cases."
   ]
  },
  {
   "cell_type": "markdown",
   "metadata": {},
   "source": [
    "# Permutations\n",
    "\n",
    "A **permutation** is an arrangement of a set of elements in a specific order. The order of elements matters.\n",
    "\n",
    "## Formula:\n",
    "The number of ways to arrange **n** elements in order is:\n",
    "\\[\n",
    "P(n, r) = \\frac{n!}{(n - r)!}\n",
    "\\]\n",
    "where:\n",
    "- **n** is the total number of elements.\n",
    "- **r** is the number of elements chosen.\n",
    "- **!** (factorial) represents the product of all positive integers up to that number.\n",
    "\n",
    "## Example:\n",
    "If we have three letters **A, B, C** and we want to arrange two of them:\n",
    "- Possible permutations: **AB, AC, BA, BC, CA, CB**\n",
    "- Total count: \\( P(3,2) = \\frac{3!}{(3-2)!} = 6 \\)"
   ]
  },
  {
   "cell_type": "code",
   "execution_count": 3,
   "metadata": {},
   "outputs": [
    {
     "name": "stdout",
     "output_type": "stream",
     "text": [
      "[('a', 'b', 'c'), ('a', 'b', 'd'), ('a', 'b', 'e'), ('a', 'c', 'b'), ('a', 'c', 'd')]\n",
      "60\n"
     ]
    }
   ],
   "source": [
    "from itertools import permutations\n",
    "\n",
    "results = list(permutations([\"a\", \"b\", \"c\", \"d\", \"e\"], 3))\n",
    "\n",
    "print(results[:5])\n",
    "print(len(results))"
   ]
  },
  {
   "cell_type": "markdown",
   "metadata": {},
   "source": [
    "# Combinations\n",
    "\n",
    "A **combination** refers to selecting elements from a set where the order does **not** matter.\n",
    "\n",
    "## Formula:\n",
    "\\[\n",
    "C(n, r) = \\frac{n!}{r!(n - r)!}\n",
    "\\]\n",
    "where:\n",
    "- **n** is the total number of elements.\n",
    "- **r** is the number of elements selected.\n",
    "- **r!** accounts for the fact that order does not matter.\n",
    "\n",
    "## Example:\n",
    "If we have three letters **A, B, C** and we want to choose two of them:\n",
    "- Possible combinations: **AB, AC, BC** (order does not matter)\n",
    "- Total count: \\( C(3,2) = \\frac{3!}{2!(3-2)!} = 3 \\)"
   ]
  },
  {
   "cell_type": "code",
   "execution_count": 4,
   "metadata": {},
   "outputs": [
    {
     "name": "stdout",
     "output_type": "stream",
     "text": [
      "[('a', 'b', 'c'), ('a', 'b', 'd'), ('a', 'b', 'e'), ('a', 'c', 'd'), ('a', 'c', 'e')]\n",
      "10\n"
     ]
    }
   ],
   "source": [
    "from itertools import combinations\n",
    "\n",
    "results = list(combinations([\"a\", \"b\", \"c\", \"d\", \"e\"], 3))\n",
    "\n",
    "print(results[:5])\n",
    "print(len(results))"
   ]
  },
  {
   "cell_type": "code",
   "execution_count": null,
   "metadata": {},
   "outputs": [],
   "source": []
  }
 ],
 "metadata": {
  "kernelspec": {
   "display_name": "any",
   "language": "python",
   "name": "python3"
  },
  "language_info": {
   "codemirror_mode": {
    "name": "ipython",
    "version": 3
   },
   "file_extension": ".py",
   "mimetype": "text/x-python",
   "name": "python",
   "nbconvert_exporter": "python",
   "pygments_lexer": "ipython3",
   "version": "3.9.21"
  }
 },
 "nbformat": 4,
 "nbformat_minor": 2
}
