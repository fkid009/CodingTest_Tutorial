{
 "cells": [
  {
   "cell_type": "markdown",
   "metadata": {},
   "source": [
    "# [차이를 최대로](https://www.acmicpc.net/problem/10819)\n",
    "\n",
    "## 문제 설명\n",
    "\n",
    "길이가 N인 정수 배열 A가 주어집니다. 배열에 포함된 정수를 이용하여 얻을 수 있는 식의 최대값을 구하는 프로그램을 작성하세요.\n",
    "\n",
    "식은 다음과 같습니다:\n",
    "\n",
    "\\[\n",
    "|A[0] - A[1]| + |A[1] - A[2]| + \\ldots + |A[N-2] - A[N-1]|\n",
    "\\]\n",
    "\n",
    "## 입력\n",
    "\n",
    "- 첫째 줄에 배열의 크기 N이 주어집니다. (3 ≤ N ≤ 8)\n",
    "- 둘째 줄에 배열 A의 원소가 주어집니다. 배열 A의 원소는 -100 이상, 100 이하의 정수이며, 중복된 원소가 있을 수 있습니다.\n",
    "\n",
    "## 출력\n",
    "\n",
    "- 얻을 수 있는 식의 최대값을 출력합니다."
   ]
  },
  {
   "cell_type": "markdown",
   "metadata": {},
   "source": [
    "# 풀이"
   ]
  },
  {
   "cell_type": "code",
   "execution_count": 2,
   "metadata": {},
   "outputs": [],
   "source": [
    "# 모든 permutation에 대해 차이의 합 구해면 됨\n",
    "\n",
    "N = int(input())\n",
    "num_list = list(map(int, input().split()))"
   ]
  },
  {
   "cell_type": "code",
   "execution_count": 3,
   "metadata": {},
   "outputs": [],
   "source": [
    "from itertools import permutations\n",
    "\n",
    "ans = -1\n",
    "for p in list(permutations(num_list)):\n",
    "    sum = 0\n",
    "    for i in range(N - 1):\n",
    "        sum += abs(p[i] - p[i + 1])\n",
    "    \n",
    "    if ans < sum:\n",
    "         ans = sum\n",
    "    "
   ]
  },
  {
   "cell_type": "code",
   "execution_count": 4,
   "metadata": {},
   "outputs": [
    {
     "name": "stdout",
     "output_type": "stream",
     "text": [
      "62\n"
     ]
    }
   ],
   "source": [
    "print(ans)"
   ]
  },
  {
   "cell_type": "code",
   "execution_count": null,
   "metadata": {},
   "outputs": [],
   "source": []
  }
 ],
 "metadata": {
  "kernelspec": {
   "display_name": "any",
   "language": "python",
   "name": "python3"
  },
  "language_info": {
   "codemirror_mode": {
    "name": "ipython",
    "version": 3
   },
   "file_extension": ".py",
   "mimetype": "text/x-python",
   "name": "python",
   "nbconvert_exporter": "python",
   "pygments_lexer": "ipython3",
   "version": "3.9.21"
  }
 },
 "nbformat": 4,
 "nbformat_minor": 2
}
