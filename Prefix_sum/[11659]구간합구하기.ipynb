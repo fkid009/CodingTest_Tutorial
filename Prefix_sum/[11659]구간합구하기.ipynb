{
 "cells": [
  {
   "cell_type": "markdown",
   "metadata": {},
   "source": [
    "## [구간 합 구하기 4](https://icpc.me/11659)\n",
    "\n",
    "### 문제 설명\n",
    "\n",
    "정수로 이루어진 배열이 주어졌을 때, 여러 개의 구간에 대한 합을 구하는 프로그램을 작성하세요.\n",
    "\n",
    "### 입력\n",
    "\n",
    "- 첫째 줄에 배열의 크기 \\( N \\)과 합을 구해야 하는 횟수 \\( M \\)이 주어집니다. (1 ≤ \\( N \\), \\( M \\) ≤ 100,000)\n",
    "- 둘째 줄에는 배열의 각 원소가 공백으로 구분되어 주어집니다. 배열의 원소는 절댓값이 1,000 이하인 정수입니다.\n",
    "- 셋째 줄부터 \\( M \\)개의 줄에는 각각 구간을 나타내는 \\( i \\)와 \\( j \\)가 주어집니다. (1 ≤ \\( i \\) ≤ \\( j \\) ≤ \\( N \\))\n",
    "\n",
    "### 출력\n",
    "\n",
    "- 총 \\( M \\)개의 줄에 걸쳐 각 구간 \\( [i, j] \\)에 대한 합을 출력합니다.\n",
    "\n",
    "### 예제 입력\n",
    "\n"
   ]
  },
  {
   "cell_type": "markdown",
   "metadata": {},
   "source": [
    "5 3 \n",
    "\n",
    "5 4 3 2 1 \n",
    "\n",
    "1 3 \n",
    "\n",
    "2 4 \n",
    "\n",
    "5 5"
   ]
  },
  {
   "cell_type": "markdown",
   "metadata": {},
   "source": [
    "### 예제 출력\n",
    "\n",
    "12 \n",
    "\n",
    "9 \n",
    "\n",
    "1"
   ]
  },
  {
   "cell_type": "markdown",
   "metadata": {},
   "source": [
    "# 풀이"
   ]
  },
  {
   "cell_type": "code",
   "execution_count": 17,
   "metadata": {},
   "outputs": [],
   "source": [
    "M, N = map(int, input().split())\n",
    "a = list(map(int, input().split()))"
   ]
  },
  {
   "cell_type": "code",
   "execution_count": 18,
   "metadata": {},
   "outputs": [],
   "source": [
    "psum = [0] * M\n",
    "psum[0] = a[0]\n",
    "\n",
    "for i in range(1, M):\n",
    "    psum[i] = psum[i - 1] + a[i]"
   ]
  },
  {
   "cell_type": "code",
   "execution_count": 19,
   "metadata": {},
   "outputs": [
    {
     "name": "stdout",
     "output_type": "stream",
     "text": [
      "[5, 9, 12, 14, 15]\n"
     ]
    }
   ],
   "source": [
    "print(psum)"
   ]
  },
  {
   "cell_type": "code",
   "execution_count": 20,
   "metadata": {},
   "outputs": [
    {
     "name": "stdout",
     "output_type": "stream",
     "text": [
      "12\n",
      "9\n",
      "1\n"
     ]
    }
   ],
   "source": [
    "for _ in range(N):\n",
    "    a, b = map(int, input().split())\n",
    "\n",
    "    if a == 1:\n",
    "        answer = psum[b - 1]\n",
    "    else:\n",
    "        answer = psum[b - 1] - psum[a - 2]\n",
    "    \n",
    "    print(answer)\n"
   ]
  },
  {
   "cell_type": "code",
   "execution_count": null,
   "metadata": {},
   "outputs": [],
   "source": []
  }
 ],
 "metadata": {
  "kernelspec": {
   "display_name": "any",
   "language": "python",
   "name": "python3"
  },
  "language_info": {
   "codemirror_mode": {
    "name": "ipython",
    "version": 3
   },
   "file_extension": ".py",
   "mimetype": "text/x-python",
   "name": "python",
   "nbconvert_exporter": "python",
   "pygments_lexer": "ipython3",
   "version": "3.9.21"
  }
 },
 "nbformat": 4,
 "nbformat_minor": 2
}
