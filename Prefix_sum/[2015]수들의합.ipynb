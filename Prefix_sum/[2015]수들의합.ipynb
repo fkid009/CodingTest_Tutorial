{
 "cells": [
  {
   "cell_type": "markdown",
   "metadata": {},
   "source": [
    "## [수들의 합4](https://www.acmicpc.net/problem/2015)\n",
    "\n",
    "## 문제 설명\n",
    "주어진 배열 `A[1], A[2], ..., A[N]`의 **부분합**이란, 인덱스 `i`와 `j`에 대해 `A[i]`부터 `A[j]`까지의 합을 의미합니다.  \n",
    "이 문제에서는 주어진 배열의 모든 부분합 중에서 값이 `K`와 같은 것이 몇 개인지를 찾는 프로그램을 작성해야 합니다.\n",
    "\n",
    "\n",
    "## 입력\n",
    "- **첫째 줄:** 정수 `N`과 `K`가 주어진다. (1 ≤ `N` ≤ 200,000, |`K`| ≤ 2,000,000,000)\n",
    "  - `N`: 배열의 크기\n",
    "  - `K`: 목표 합\n",
    "- **둘째 줄:** 배열 `A`를 이루는 `N`개의 정수가 공백으로 구분되어 주어진다.\n",
    "  - 각 정수의 절댓값은 `10,000`을 넘지 않는다.\n",
    "\n",
    "\n",
    "## 출력\n",
    "- 합이 `K`인 부분합의 개수를 출력한다."
   ]
  },
  {
   "cell_type": "markdown",
   "metadata": {},
   "source": [
    "## 예제 입력\n",
    "\n",
    "4 0\n",
    "\n",
    "2 -2 2 -2"
   ]
  },
  {
   "cell_type": "markdown",
   "metadata": {},
   "source": [
    "## 예제 출력\n",
    "4"
   ]
  },
  {
   "cell_type": "markdown",
   "metadata": {},
   "source": [
    "# 풀이 1"
   ]
  },
  {
   "cell_type": "code",
   "execution_count": 2,
   "metadata": {},
   "outputs": [],
   "source": [
    "N, target = map(int, input().split())\n",
    "a = list(map(int, input().split()))"
   ]
  },
  {
   "cell_type": "code",
   "execution_count": 3,
   "metadata": {},
   "outputs": [],
   "source": [
    "psum = [0] * N\n",
    "psum[0] = a[0]\n",
    "\n",
    "for i in range(1, N):\n",
    "    psum[i] = psum[i-1] + a[i]"
   ]
  },
  {
   "cell_type": "code",
   "execution_count": 4,
   "metadata": {},
   "outputs": [
    {
     "data": {
      "text/plain": [
       "[2, 0, 2, 0]"
      ]
     },
     "execution_count": 4,
     "metadata": {},
     "output_type": "execute_result"
    }
   ],
   "source": [
    "psum"
   ]
  },
  {
   "cell_type": "code",
   "execution_count": 8,
   "metadata": {},
   "outputs": [],
   "source": [
    "def get_part_sum(psum, idx1, idx2):\n",
    "    return psum[idx2] - psum[idx1]\n",
    "\n",
    "cnt = 0\n",
    "if a[0] == target:\n",
    "    cnt += 1\n",
    "if a[-1] == target:\n",
    "    cnt += 1\n",
    "\n",
    "for i in range(1, N):\n",
    "    for j in range(N-1):\n",
    "         if get_part_sum(psum, j, i) == target:\n",
    "             cnt += 1\n"
   ]
  },
  {
   "cell_type": "code",
   "execution_count": 9,
   "metadata": {},
   "outputs": [
    {
     "data": {
      "text/plain": [
       "4"
      ]
     },
     "execution_count": 9,
     "metadata": {},
     "output_type": "execute_result"
    }
   ],
   "source": [
    "cnt"
   ]
  },
  {
   "cell_type": "markdown",
   "metadata": {},
   "source": [
    "# 풀이 2"
   ]
  },
  {
   "cell_type": "code",
   "execution_count": 11,
   "metadata": {},
   "outputs": [],
   "source": [
    "count = {}\n",
    "answer = 0\n",
    "\n",
    "for i in range(N):\n",
    "    goal = psum[i] - target\n",
    "\n",
    "    if goal in count:\n",
    "        answer += 1\n",
    "    if goal == 0:\n",
    "        answer += 1\n",
    "\n",
    "    if psum[i] not in count:\n",
    "        count[psum[i]] = 0\n",
    "    count[psum[i]] += 1\n",
    "\n",
    "    \n"
   ]
  },
  {
   "cell_type": "code",
   "execution_count": 12,
   "metadata": {},
   "outputs": [
    {
     "data": {
      "text/plain": [
       "4"
      ]
     },
     "execution_count": 12,
     "metadata": {},
     "output_type": "execute_result"
    }
   ],
   "source": [
    "answer"
   ]
  },
  {
   "cell_type": "code",
   "execution_count": null,
   "metadata": {},
   "outputs": [],
   "source": []
  }
 ],
 "metadata": {
  "kernelspec": {
   "display_name": "any",
   "language": "python",
   "name": "python3"
  },
  "language_info": {
   "codemirror_mode": {
    "name": "ipython",
    "version": 3
   },
   "file_extension": ".py",
   "mimetype": "text/x-python",
   "name": "python",
   "nbconvert_exporter": "python",
   "pygments_lexer": "ipython3",
   "version": "3.9.21"
  }
 },
 "nbformat": 4,
 "nbformat_minor": 2
}
