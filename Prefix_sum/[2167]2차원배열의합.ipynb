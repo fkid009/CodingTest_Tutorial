{
 "cells": [
  {
   "cell_type": "markdown",
   "metadata": {},
   "source": [
    "### [2차원 배열의 합](https://www.acmicpc.net/problem/2167)\n",
    "\n",
    "\n",
    "#### **문제 설명**\n",
    "2차원 배열이 주어졌을 때, `(i, j)` 위치부터 `(x, y)` 위치까지에 저장되어 있는 수들의 합을 구하는 프로그램을 작성하시오. 배열의 `(i, j)` 위치는 `i행 j열`을 나타낸다.\n",
    "\n",
    "\n",
    "#### **입력**\n",
    "- 첫째 줄에 배열의 크기인 `N`과 `M`이 주어진다. \n",
    "- 다음 `N`개의 줄에는 `M`개의 정수로 배열이 주어진다. \n",
    "- 그 다음 줄에는 합을 구할 부분의 개수 `K`가 주어진다. \n",
    "- 다음 `K`개의 줄에는 네 개의 정수 `i, j, x, y`가 주어지며, 이는 `(i, j)`부터 `(x, y)`까지의 부분 배열을 나타낸다.\n",
    "\n",
    "\n",
    "#### **출력**\n",
    "- 각 부분 배열에 대한 합을 한 줄에 하나씩 출력한다.\n",
    "\n",
    "\n",
    "#### **제한사항**\n",
    "- `1 ≤ N, M ≤ 300`\n",
    "- `1 ≤ i ≤ x ≤ N`\n",
    "- `1 ≤ j ≤ y ≤ M`\n",
    "- 주어진 배열의 각 요소는 절댓값이 `10,000`을 넘지 않는 정수이다.\n",
    "- `1 ≤ K ≤ 10,000`\n",
    "\n",
    "\n",
    "#### **예제 입력**\n"
   ]
  },
  {
   "cell_type": "markdown",
   "metadata": {},
   "source": [
    "2 3\n",
    "\n",
    "1 2 4\n",
    "\n",
    "8 16 32\n",
    "\n",
    "3\n",
    "\n",
    "1 1 2 3\n",
    "\n",
    "1 2 1 2\n",
    "\n",
    "1 3 2 3\n"
   ]
  },
  {
   "cell_type": "markdown",
   "metadata": {},
   "source": [
    "#### **예제 출력**\n",
    "\n",
    "63 \n",
    "\n",
    "2 \n",
    "\n",
    "36"
   ]
  },
  {
   "cell_type": "markdown",
   "metadata": {},
   "source": [
    "# 풀이"
   ]
  },
  {
   "cell_type": "code",
   "execution_count": 1,
   "metadata": {},
   "outputs": [],
   "source": [
    "# 2차원 누적합 이용\n",
    "N, M = map(int, input().split())\n",
    "a = []\n",
    "for _ in range(N):\n",
    "    a.append(list(map(int, input().split())))"
   ]
  },
  {
   "cell_type": "code",
   "execution_count": 2,
   "metadata": {},
   "outputs": [],
   "source": [
    "psum = [[0 for _ in range(M)] for _ in range(N)]\n",
    "\n",
    "for i in range(N):\n",
    "    for j in range(M):\n",
    "        if i == 0 and j == 0:\n",
    "            psum[i][j] = a[i][j]\n",
    "        elif i == 0 and j != 0:\n",
    "            psum[i][j] = a[i][j] + psum[i][j - 1]\n",
    "        elif i != 0 and j == 0:\n",
    "            psum[i][j] = a[i][j] + psum[i - 1][j]\n",
    "        else:\n",
    "            psum[i][j] = a[i][j] + psum[i - 1][j] + psum[i][j - 1] - psum[i - 1][j - 1]"
   ]
  },
  {
   "cell_type": "code",
   "execution_count": 5,
   "metadata": {},
   "outputs": [
    {
     "name": "stdout",
     "output_type": "stream",
     "text": [
      "63\n",
      "2\n",
      "36\n"
     ]
    }
   ],
   "source": [
    "K = int(input())\n",
    "for _ in range(K):\n",
    "    a, b, c, d = map(int, input().split())\n",
    "\n",
    "    if a == 1 and b == 1:\n",
    "        print(psum[c - 1][d - 1])\n",
    "    elif a == 1 and b != 1:\n",
    "        print(psum[c - 1][d - 1] - psum[c - 1][b - 2])\n",
    "    elif a != 1 and b == 1:\n",
    "        print(psum[c - 1][d - 1] - psum[a - 2][d - 1])\n",
    "    else:\n",
    "        print(psum[c - 1][d - 1] - psum[c - 1][b - 2] - psum[a - 2][d - 1] + psum[a - 2][d - 2])"
   ]
  },
  {
   "cell_type": "code",
   "execution_count": null,
   "metadata": {},
   "outputs": [],
   "source": []
  }
 ],
 "metadata": {
  "kernelspec": {
   "display_name": "any",
   "language": "python",
   "name": "python3"
  },
  "language_info": {
   "codemirror_mode": {
    "name": "ipython",
    "version": 3
   },
   "file_extension": ".py",
   "mimetype": "text/x-python",
   "name": "python",
   "nbconvert_exporter": "python",
   "pygments_lexer": "ipython3",
   "version": "3.9.21"
  }
 },
 "nbformat": 4,
 "nbformat_minor": 2
}
