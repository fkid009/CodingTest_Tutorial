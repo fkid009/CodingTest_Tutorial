{
 "cells": [
  {
   "cell_type": "markdown",
   "metadata": {},
   "source": [
    "## Cumulative Sum Array\n",
    "\n",
    "### Introduction\n",
    "A **Cumulative Sum Array** (also known as a Prefix Sum Array) is a useful technique for efficiently calculating the sum of elements within a given range of an array. Instead of recalculating the sum every time a query is made, we precompute cumulative sums which allows us to answer range sum queries in constant time.  \n",
    "\n",
    "This technique is particularly useful when **multiple range sum queries need to be performed on the same array**, as the preprocessing step significantly reduces the computation time for each query.\n",
    "\n",
    "---\n",
    "\n",
    "### Definition\n",
    "Given an array `A` of length `n`, the **Cumulative Sum Array** `C` is constructed such that:\n",
    "\n",
    "C[i] = A[0] + A[1] + ... + A[i]\n",
    "\n",
    "For `0 <= i < n`."
   ]
  },
  {
   "cell_type": "markdown",
   "metadata": {},
   "source": [
    "### Example\n",
    "Suppose we have an array:\n",
    "\n",
    "A = [2, 4, 6, 8, 10]\n",
    "\n",
    "The Cumulative Sum Array `C` is calculated as:\n",
    "\n",
    "C = [2, 6, 12, 20, 30]\n"
   ]
  },
  {
   "cell_type": "code",
   "execution_count": 3,
   "metadata": {},
   "outputs": [
    {
     "name": "stdout",
     "output_type": "stream",
     "text": [
      "[3, 5, 11, 10, 17]\n"
     ]
    }
   ],
   "source": [
    "# Prefix Sum in O(N)\n",
    "N = 5\n",
    "A = [3, 2, 6, -1, 7]\n",
    "\n",
    "psum = [0] * N\n",
    "psum[0] = A[0]\n",
    "\n",
    "for i in range(1, N):\n",
    "    psum[i] = psum[i - 1] + A[i]\n",
    "\n",
    "print(psum)"
   ]
  }
 ],
 "metadata": {
  "kernelspec": {
   "display_name": "any",
   "language": "python",
   "name": "python3"
  },
  "language_info": {
   "codemirror_mode": {
    "name": "ipython",
    "version": 3
   },
   "file_extension": ".py",
   "mimetype": "text/x-python",
   "name": "python",
   "nbconvert_exporter": "python",
   "pygments_lexer": "ipython3",
   "version": "3.9.21"
  }
 },
 "nbformat": 4,
 "nbformat_minor": 2
}
