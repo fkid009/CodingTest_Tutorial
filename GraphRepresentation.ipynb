{
 "cells": [
  {
   "cell_type": "markdown",
   "metadata": {},
   "source": [
    "# Graph\n",
    "\n",
    "A **graph** consists of **vertices (nodes)** and **edges (connections)**.  \n",
    "There are two common ways to represent a graph:  \n",
    "**Adjacency Matrix** and **Adjacency List**."
   ]
  },
  {
   "cell_type": "markdown",
   "metadata": {},
   "source": [
    "## 1. Adjacency Matrix"
   ]
  },
  {
   "cell_type": "markdown",
   "metadata": {},
   "source": [
    "An adjacency matrix represents a graph using a **2D array** (matrix).  \n",
    "If a graph has `n` vertices, it uses an `n × n` matrix, where:\n",
    "\n",
    "- `matrix[i][j] = 1` (or weight value) if there is an edge between vertex `i` and `j`\n",
    "- `matrix[i][j] = 0` if there is no edge\n"
   ]
  },
  {
   "cell_type": "markdown",
   "metadata": {},
   "source": [
    "### Example"
   ]
  },
  {
   "cell_type": "markdown",
   "metadata": {},
   "source": [
    "For the following **undirected graph**:   \n",
    "   \n",
    "   (0)---(1)\n",
    "    |  \\  |\n",
    "    |   \\ |\n",
    "   (2)---(3)"
   ]
  },
  {
   "cell_type": "markdown",
   "metadata": {},
   "source": [
    "The adjacency matrix representation is:\n",
    "\n",
    "|   | 0 | 1 | 2 | 3 |\n",
    "|---|---|---|---|---|\n",
    "| 0 | 0 | 1 | 1 | 1 |\n",
    "| 1 | 1 | 0 | 0 | 1 |\n",
    "| 2 | 1 | 0 | 0 | 1 |\n",
    "| 3 | 1 | 1 | 1 | 0 |\n",
    "\n",
    "#### Pros\n",
    "- Simple and easy to implement\n",
    "- **Fast lookup**: Checking if two nodes are connected takes **O(1)** time\n",
    "\n",
    "#### Cons\n",
    "- **Memory inefficient**: Takes **O(n²)** space, even for sparse graphs  \n",
    "- **Slow traversal**: Iterating through all neighbors takes **O(n)** time"
   ]
  },
  {
   "cell_type": "code",
   "execution_count": null,
   "metadata": {},
   "outputs": [],
   "source": [
    "N = 6\n",
    "edges = [[0, 1], [1, 2], [0, 3], [0, 4], [3, 4], [2, 3], [2, 5]]"
   ]
  },
  {
   "cell_type": "code",
   "execution_count": null,
   "metadata": {},
   "outputs": [],
   "source": []
  },
  {
   "cell_type": "markdown",
   "metadata": {},
   "source": [
    "## 2. Adjacency List"
   ]
  },
  {
   "cell_type": "markdown",
   "metadata": {},
   "source": [
    "An adjacency list represents a graph using an **array of lists** (or hash maps).  \n",
    "Each vertex stores a **list of its neighbors**."
   ]
  },
  {
   "cell_type": "markdown",
   "metadata": {},
   "source": [
    "### Example"
   ]
  },
  {
   "cell_type": "markdown",
   "metadata": {},
   "source": [
    "The adjacency list representation for the same graph:\n",
    "0: [1, 2, 3] 1: [0, 3] 2: [0, 3] 3: [0, 1, 2]\n"
   ]
  },
  {
   "cell_type": "markdown",
   "metadata": {},
   "source": [
    "#### Pros\n",
    "- **Memory efficient**: Uses **O(n + m)** space, where `m` is the number of edges  \n",
    "- **Fast traversal**: Iterating through neighbors takes **O(degree(v))** time\n",
    "\n",
    "#### Cons\n",
    "- **Slower lookup**: Checking if two nodes are connected takes **O(degree(v))** time  \n",
    "- Slightly more complex to implement than an adjacency matrix  "
   ]
  },
  {
   "cell_type": "markdown",
   "metadata": {},
   "source": []
  }
 ],
 "metadata": {
  "kernelspec": {
   "display_name": "any",
   "language": "python",
   "name": "python3"
  },
  "language_info": {
   "name": "python",
   "version": "3.9.21"
  }
 },
 "nbformat": 4,
 "nbformat_minor": 2
}
