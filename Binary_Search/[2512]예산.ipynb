{
 "cells": [
  {
   "cell_type": "markdown",
   "metadata": {},
   "source": [
    "## [예산](https://icpc.me/2512)\n",
    "\n",
    "### 문제\n",
    "\n",
    "국가의 역할 중 하나는 여러 지방의 예산 요청을 심사하여 국가의 예산을 적절히 분배하는 것입니다. 각 지방에서 요청한 예산 금액과 국가의 예산 총액이 주어졌을 때, 모든 지방의 예산 요청을 수용할 수 없는 경우에는 특정한 상한액을 정하여 그 이상 요청한 예산에 대해서는 상한액으로 배정합니다. 모든 요청이 배정될 수 있도록 하면서도 가능한 한 최대의 상한액을 찾는 프로그램을 작성하세요.\n",
    "\n",
    "### 입력\n",
    "\n",
    "1. 첫째 줄에는 지방의 수를 나타내는 정수 N이 주어집니다. (3 ≤ N ≤ 10,000)\n",
    "2. 둘째 줄에는 각 지방의 예산 요청을 나타내는 N개의 정수가 공백으로 구분되어 주어집니다.\n",
    "3. 셋째 줄에는 국가의 예산 총액을 나타내는 정수 M이 주어집니다. (N ≤ M ≤ 1,000,000,000)\n",
    "\n",
    "### 출력\n",
    "\n",
    "모든 지방의 예산 요청을 수용할 수 있도록 하면서도 가능한 한 최대의 상한액을 출력합니다.\n",
    "\n",
    "### 예제 입력\n",
    "4\n",
    "\n",
    "120 110 140 150\n",
    "\n",
    "486\n",
    "\n",
    "### 예제 출력\n",
    "127"
   ]
  },
  {
   "cell_type": "markdown",
   "metadata": {},
   "source": [
    "# 풀이"
   ]
  },
  {
   "cell_type": "code",
   "execution_count": 15,
   "metadata": {},
   "outputs": [],
   "source": [
    "N = int(input())\n",
    "M = list(map(int, input().split()))\n",
    "K = int(input())"
   ]
  },
  {
   "cell_type": "code",
   "execution_count": 16,
   "metadata": {},
   "outputs": [],
   "source": [
    "left = 1\n",
    "right = max(M)\n",
    "answer = -1"
   ]
  },
  {
   "cell_type": "code",
   "execution_count": 17,
   "metadata": {},
   "outputs": [],
   "source": [
    "def calc_money(x):\n",
    "    total = 0\n",
    "    for i in range(N):\n",
    "        total += min(x, M[i])\n",
    "    return total\n"
   ]
  },
  {
   "cell_type": "code",
   "execution_count": 18,
   "metadata": {},
   "outputs": [
    {
     "name": "stdout",
     "output_type": "stream",
     "text": [
      "127\n"
     ]
    }
   ],
   "source": [
    "while left <= right:\n",
    "    mid = (left + right) // 2\n",
    "\n",
    "    if calc_money(mid) <= K:\n",
    "        answer = mid\n",
    "        left = mid + 1\n",
    "        \n",
    "    \n",
    "    else:\n",
    "        right = mid - 1\n",
    "\n",
    "print(answer)\n"
   ]
  }
 ],
 "metadata": {
  "kernelspec": {
   "display_name": "any",
   "language": "python",
   "name": "python3"
  },
  "language_info": {
   "codemirror_mode": {
    "name": "ipython",
    "version": 3
   },
   "file_extension": ".py",
   "mimetype": "text/x-python",
   "name": "python",
   "nbconvert_exporter": "python",
   "pygments_lexer": "ipython3",
   "version": "3.9.21"
  }
 },
 "nbformat": 4,
 "nbformat_minor": 2
}
