{
 "cells": [
  {
   "cell_type": "markdown",
   "id": "f776440c",
   "metadata": {},
   "source": [
    "## [K번째 수](https://www.acmicpc.net/problem/1300)\n",
    "\n",
    "### 문제\n",
    "\n",
    "크기가 N×N인 배열 A가 있다. 배열의 각 칸 A[i][j]에는 i × j의 값이 들어있다. 이 배열의 모든 수를 오름차순 정렬했을 때, k번째 수를 구하는 프로그램을 작성하시오.\n",
    "\n",
    "단, 배열을 직접 만들면 메모리 초과가 발생할 수 있으므로, 효율적인 방법을 생각해야 한다.\n",
    "\n",
    "### 입력\n",
    "\n",
    "1. 첫째 줄에 배열의 크기 N이 주어진다. (1 ≤ N ≤ 100,000)\n",
    "2. 둘째 줄에 k가 주어진다. (1 ≤ k ≤ min(10⁹, N²))\n",
    "\n",
    "### 출력\n",
    "\n",
    "정렬된 배열에서 k번째에 있는 수를 출력한다.\n",
    "\n",
    "### 예제 입력\n",
    "3\n",
    "\n",
    "7\n",
    "\n",
    "### 예제 출력\n",
    "6"
   ]
  },
  {
   "cell_type": "markdown",
   "id": "475be2c1",
   "metadata": {},
   "source": []
  }
 ],
 "metadata": {
  "language_info": {
   "name": "python"
  }
 },
 "nbformat": 4,
 "nbformat_minor": 5
}
