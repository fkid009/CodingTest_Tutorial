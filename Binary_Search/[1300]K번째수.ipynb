{
 "cells": [
  {
   "cell_type": "markdown",
   "id": "f776440c",
   "metadata": {},
   "source": [
    "## [K번째 수](https://www.acmicpc.net/problem/1300)\n",
    "\n",
    "### 문제\n",
    "\n",
    "크기가 N×N인 배열 A가 있다. 배열의 각 칸 A[i][j]에는 i × j의 값이 들어있다. 이 배열의 모든 수를 오름차순 정렬했을 때, k번째 수를 구하는 프로그램을 작성하시오.\n",
    "\n",
    "단, 배열을 직접 만들면 메모리 초과가 발생할 수 있으므로, 효율적인 방법을 생각해야 한다.\n",
    "\n",
    "### 입력\n",
    "\n",
    "1. 첫째 줄에 배열의 크기 N이 주어진다. (1 ≤ N ≤ 100,000)\n",
    "2. 둘째 줄에 k가 주어진다. (1 ≤ k ≤ min(10⁹, N²))\n",
    "\n",
    "### 출력\n",
    "\n",
    "정렬된 배열에서 k번째에 있는 수를 출력한다.\n",
    "\n",
    "### 예제 입력\n",
    "3\n",
    "\n",
    "7\n",
    "\n",
    "### 예제 출력\n",
    "6"
   ]
  },
  {
   "cell_type": "markdown",
   "id": "475be2c1",
   "metadata": {},
   "source": [
    "# 풀이"
   ]
  },
  {
   "cell_type": "markdown",
   "metadata": {},
   "source": [
    "만약, X가 어떤 N개의 배열에서 k번째로 작은 수라면 아래와 같은 성질을 만족한다.\n",
    "- X보다 작은 수가 **K-1**개 이하이다.\n",
    "- X보다 큰 수가 **N-K**개 이하이다."
   ]
  },
  {
   "cell_type": "code",
   "execution_count": 26,
   "id": "deec3bdc",
   "metadata": {},
   "outputs": [],
   "source": [
    "n = int(input()) \n",
    "k = int(input())"
   ]
  },
  {
   "cell_type": "code",
   "execution_count": null,
   "id": "7c60c99d",
   "metadata": {},
   "outputs": [],
   "source": [
    "def get_num_smaller_bigger(n: int, x: int, is_small: bool) -> int:\n",
    "    num = 0\n",
    "    for i in range(1, n + 1):\n",
    "        if is_small:\n",
    "            num += min(n, (x - i) // i)\n",
    "        else:\n",
    "            num += n - min(n, x // i)\n",
    "    return num"
   ]
  },
  {
   "cell_type": "code",
   "execution_count": 40,
   "id": "a6ca84a3",
   "metadata": {},
   "outputs": [],
   "source": [
    "low = 1\n",
    "high = n * n\n",
    "answer = -1"
   ]
  },
  {
   "cell_type": "code",
   "execution_count": null,
   "id": "19d55f56",
   "metadata": {},
   "outputs": [
    {
     "name": "stdout",
     "output_type": "stream",
     "text": [
      "5\n",
      "7\n",
      "7\n"
     ]
    }
   ],
   "source": [
    "while True:\n",
    "    mid = (low + high) // 2\n",
    "    print(mid)\n",
    "\n",
    "    num_smaller = get_num_smaller_bigger(n, mid, True)\n",
    "    num_bigger = get_num_smaller_bigger(n,  mid, False)\n",
    "\n",
    "    if num_smaller > k - 1:\n",
    "        high = mid - 1\n",
    "    elif num_bigger > n * n- k:\n",
    "        low = mid +1\n",
    "    else:\n",
    "        answer = mid\n",
    "        break"
   ]
  },
  {
   "cell_type": "code",
   "execution_count": 42,
   "id": "11ebff8a",
   "metadata": {},
   "outputs": [
    {
     "name": "stdout",
     "output_type": "stream",
     "text": [
      "7\n"
     ]
    }
   ],
   "source": [
    "print(answer)"
   ]
  },
  {
   "cell_type": "code",
   "execution_count": null,
   "id": "6c13a70e",
   "metadata": {},
   "outputs": [],
   "source": []
  }
 ],
 "metadata": {
  "kernelspec": {
   "display_name": "free",
   "language": "python",
   "name": "python3"
  },
  "language_info": {
   "codemirror_mode": {
    "name": "ipython",
    "version": 3
   },
   "file_extension": ".py",
   "mimetype": "text/x-python",
   "name": "python",
   "nbconvert_exporter": "python",
   "pygments_lexer": "ipython3",
   "version": "3.8.20"
  }
 },
 "nbformat": 4,
 "nbformat_minor": 5
}
