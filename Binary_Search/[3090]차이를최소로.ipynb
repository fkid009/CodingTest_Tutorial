{
 "cells": [
  {
   "cell_type": "markdown",
   "metadata": {},
   "source": [
    "## [차이를 최소로로](https://www.acmicpc.net/problem/3090)\n",
    "\n",
    "### 문제\n",
    "\n",
    "정수 N개로 이루어진 배열 A가 주어진다.\n",
    "상근이는 수열의 수 중 하나를 골라 값을 1만큼 감소시킬 수 있으며, 단 수는 1보다 작아질 수 없다.\n",
    "\n",
    "이 연산을 최대 T번까지 수행할 수 있을 때, 수열에서 인접한 수들의 차이의 최댓값을 최소로 만드는 프로그램을 작성하시오.\n",
    "\n",
    "### 입력\n",
    "\n",
    "1. 첫째 줄에 두 정수 N과 T가 주어진다. (2 ≤ N ≤ 100,000, 1 ≤ T ≤ 10⁹)\n",
    "2. 둘째 줄에는 N개의 정수 A₁, A₂, ..., Aₙ이 주어진다. (1 ≤ Aᵢ < 10⁹)\n",
    "\n",
    "### 출력\n",
    "\n",
    "- 인접한 수의 차이의 최댓값을 최소로 만든 수열 A를 출력한다.\n",
    "- A₁ A₂ ... Aₙ을 공백으로 구분하여 한 줄로 출력한다.\n",
    "\n",
    "### 예제 입력1\n",
    "5 2\n",
    "\n",
    "3 2 3 2 2\n",
    "\n",
    "### 예제 출력1\n",
    "2 2 2 2 2\n",
    "\n",
    "### 예제 입력2\n",
    "5 5\n",
    "\n",
    "4 2 3 7 6\n",
    "\n",
    "### 예제 출력2\n",
    "3 2 3 4 5\n",
    "\n",
    "### 예제 입력3\n",
    "3 6\n",
    "\n",
    "10 10 1\n",
    "\n",
    "### 예제 출력3\n",
    "9 5 1"
   ]
  },
  {
   "cell_type": "markdown",
   "metadata": {},
   "source": [
    "# 풀이"
   ]
  },
  {
   "cell_type": "code",
   "execution_count": 2,
   "metadata": {},
   "outputs": [],
   "source": [
    "N, T = tuple(map(int, input().split(\" \")))\n",
    "A = list(map(int, input().split(\" \")))"
   ]
  },
  {
   "cell_type": "code",
   "execution_count": null,
   "metadata": {},
   "outputs": [],
   "source": [
    "def get_min_operation(A: list, x: int) -> int:\n",
    "    B = A.copy()\n",
    "\n",
    "    num = 0\n",
    "    # left to right operation\n",
    "    for i in range(N -1):\n",
    "        if B[i] + x < B[i + 1]:\n",
    "            num += B[i + 1] - B[i] - x\n",
    "            B[i + 1] = B[i] + x\n",
    "\n",
    "    for i in range(N -1, 0, -1):\n",
    "        if B[i] + x < B[i - 1]:\n",
    "            num += B[i - 1] - B[i] - x\n",
    "            B[i - 1] = B[i] + x\n",
    "    return num"
   ]
  },
  {
   "cell_type": "code",
   "execution_count": 5,
   "metadata": {},
   "outputs": [],
   "source": [
    "low = 0\n",
    "high = max(A)\n",
    "answer = -1"
   ]
  },
  {
   "cell_type": "code",
   "execution_count": 6,
   "metadata": {},
   "outputs": [],
   "source": [
    "while low <= high:\n",
    "    mid = (low + high) // 2\n",
    "\n",
    "    if get_min_operation(A, mid) <= T:\n",
    "        answer = mid\n",
    "        high = mid -1\n",
    "    else:\n",
    "        low = mid + 1"
   ]
  },
  {
   "cell_type": "code",
   "execution_count": 8,
   "metadata": {},
   "outputs": [],
   "source": [
    "for i in range(N -1):\n",
    "    if A[i] + answer < A[i + 1]:\n",
    "        A[i + 1] = A[i] + answer\n",
    "\n",
    "for i in range(N -1, 0, -1):\n",
    "    if A[i] + answer < A[i - 1]:\n",
    "        A[i - 1] = A[i] + answer"
   ]
  },
  {
   "cell_type": "code",
   "execution_count": 9,
   "metadata": {},
   "outputs": [
    {
     "name": "stdout",
     "output_type": "stream",
     "text": [
      "2 2 2 2 2\n"
     ]
    }
   ],
   "source": [
    "print(\" \".join(list(map(str, A))))"
   ]
  },
  {
   "cell_type": "code",
   "execution_count": null,
   "metadata": {},
   "outputs": [],
   "source": []
  }
 ],
 "metadata": {
  "kernelspec": {
   "display_name": "free",
   "language": "python",
   "name": "python3"
  },
  "language_info": {
   "codemirror_mode": {
    "name": "ipython",
    "version": 3
   },
   "file_extension": ".py",
   "mimetype": "text/x-python",
   "name": "python",
   "nbconvert_exporter": "python",
   "pygments_lexer": "ipython3",
   "version": "3.8.20"
  }
 },
 "nbformat": 4,
 "nbformat_minor": 2
}
